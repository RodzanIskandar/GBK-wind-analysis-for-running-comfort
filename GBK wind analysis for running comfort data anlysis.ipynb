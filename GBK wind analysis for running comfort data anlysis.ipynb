{
 "cells": [
  {
   "cell_type": "code",
   "execution_count": 1,
   "id": "e749fb82",
   "metadata": {},
   "outputs": [],
   "source": [
    "import pandas as pd"
   ]
  },
  {
   "cell_type": "code",
   "execution_count": 2,
   "id": "275a10f8",
   "metadata": {},
   "outputs": [],
   "source": [
    "final_columns = ['date','temperature_2m', 'wind_speed_10m', 'wind_direction_10m', 'latitude', 'longitude']\n",
    "\n",
    "df = pd.read_csv('wind_gbk_12_coordinate_one_year_v1.csv')[final_columns]"
   ]
  },
  {
   "cell_type": "code",
   "execution_count": 3,
   "id": "f358a00f",
   "metadata": {},
   "outputs": [
    {
     "name": "stdout",
     "output_type": "stream",
     "text": [
      "<class 'pandas.core.frame.DataFrame'>\n",
      "RangeIndex: 11704 entries, 0 to 11703\n",
      "Data columns (total 6 columns):\n",
      " #   Column              Non-Null Count  Dtype  \n",
      "---  ------              --------------  -----  \n",
      " 0   date                11704 non-null  object \n",
      " 1   temperature_2m      1606 non-null   float64\n",
      " 2   wind_speed_10m      1606 non-null   float64\n",
      " 3   wind_direction_10m  1606 non-null   float64\n",
      " 4   latitude            11704 non-null  float64\n",
      " 5   longitude           11704 non-null  float64\n",
      "dtypes: float64(5), object(1)\n",
      "memory usage: 548.8+ KB\n"
     ]
    }
   ],
   "source": [
    "df.info()"
   ]
  },
  {
   "cell_type": "code",
   "execution_count": 4,
   "id": "e834ef39",
   "metadata": {},
   "outputs": [],
   "source": [
    "df = df[df.wind_speed_10m.notnull()]"
   ]
  },
  {
   "cell_type": "code",
   "execution_count": 5,
   "id": "06c3da27",
   "metadata": {},
   "outputs": [
    {
     "data": {
      "text/html": [
       "<div>\n",
       "<style scoped>\n",
       "    .dataframe tbody tr th:only-of-type {\n",
       "        vertical-align: middle;\n",
       "    }\n",
       "\n",
       "    .dataframe tbody tr th {\n",
       "        vertical-align: top;\n",
       "    }\n",
       "\n",
       "    .dataframe thead th {\n",
       "        text-align: right;\n",
       "    }\n",
       "</style>\n",
       "<table border=\"1\" class=\"dataframe\">\n",
       "  <thead>\n",
       "    <tr style=\"text-align: right;\">\n",
       "      <th></th>\n",
       "      <th>date</th>\n",
       "      <th>temperature_2m</th>\n",
       "      <th>wind_speed_10m</th>\n",
       "      <th>wind_direction_10m</th>\n",
       "      <th>latitude</th>\n",
       "      <th>longitude</th>\n",
       "    </tr>\n",
       "  </thead>\n",
       "  <tbody>\n",
       "    <tr>\n",
       "      <th>918</th>\n",
       "      <td>2025-04-04 20:00:00+07:00</td>\n",
       "      <td>28.454000</td>\n",
       "      <td>5.860375</td>\n",
       "      <td>280.619600</td>\n",
       "      <td>-6.219151</td>\n",
       "      <td>106.801624</td>\n",
       "    </tr>\n",
       "    <tr>\n",
       "      <th>919</th>\n",
       "      <td>2025-04-04 21:00:00+07:00</td>\n",
       "      <td>28.154000</td>\n",
       "      <td>3.600000</td>\n",
       "      <td>270.000000</td>\n",
       "      <td>-6.219151</td>\n",
       "      <td>106.801624</td>\n",
       "    </tr>\n",
       "    <tr>\n",
       "      <th>920</th>\n",
       "      <td>2025-04-05 20:00:00+07:00</td>\n",
       "      <td>27.054000</td>\n",
       "      <td>9.178235</td>\n",
       "      <td>318.179900</td>\n",
       "      <td>-6.219151</td>\n",
       "      <td>106.801624</td>\n",
       "    </tr>\n",
       "    <tr>\n",
       "      <th>921</th>\n",
       "      <td>2025-04-05 21:00:00+07:00</td>\n",
       "      <td>26.454000</td>\n",
       "      <td>11.592895</td>\n",
       "      <td>295.769260</td>\n",
       "      <td>-6.219151</td>\n",
       "      <td>106.801624</td>\n",
       "    </tr>\n",
       "    <tr>\n",
       "      <th>922</th>\n",
       "      <td>2025-04-06 20:00:00+07:00</td>\n",
       "      <td>25.254000</td>\n",
       "      <td>13.358861</td>\n",
       "      <td>165.963730</td>\n",
       "      <td>-6.219151</td>\n",
       "      <td>106.801624</td>\n",
       "    </tr>\n",
       "    <tr>\n",
       "      <th>...</th>\n",
       "      <td>...</td>\n",
       "      <td>...</td>\n",
       "      <td>...</td>\n",
       "      <td>...</td>\n",
       "      <td>...</td>\n",
       "      <td>...</td>\n",
       "    </tr>\n",
       "    <tr>\n",
       "      <th>11699</th>\n",
       "      <td>2025-06-13 21:00:00+07:00</td>\n",
       "      <td>28.010500</td>\n",
       "      <td>2.902413</td>\n",
       "      <td>82.875084</td>\n",
       "      <td>-6.218538</td>\n",
       "      <td>106.801346</td>\n",
       "    </tr>\n",
       "    <tr>\n",
       "      <th>11700</th>\n",
       "      <td>2025-06-14 20:00:00+07:00</td>\n",
       "      <td>26.310501</td>\n",
       "      <td>6.569383</td>\n",
       "      <td>99.462250</td>\n",
       "      <td>-6.218538</td>\n",
       "      <td>106.801346</td>\n",
       "    </tr>\n",
       "    <tr>\n",
       "      <th>11701</th>\n",
       "      <td>2025-06-14 21:00:00+07:00</td>\n",
       "      <td>26.010500</td>\n",
       "      <td>4.693825</td>\n",
       "      <td>85.601380</td>\n",
       "      <td>-6.218538</td>\n",
       "      <td>106.801346</td>\n",
       "    </tr>\n",
       "    <tr>\n",
       "      <th>11702</th>\n",
       "      <td>2025-06-15 20:00:00+07:00</td>\n",
       "      <td>28.160500</td>\n",
       "      <td>2.189795</td>\n",
       "      <td>99.462250</td>\n",
       "      <td>-6.218538</td>\n",
       "      <td>106.801346</td>\n",
       "    </tr>\n",
       "    <tr>\n",
       "      <th>11703</th>\n",
       "      <td>2025-06-15 21:00:00+07:00</td>\n",
       "      <td>27.860500</td>\n",
       "      <td>1.609969</td>\n",
       "      <td>153.435010</td>\n",
       "      <td>-6.218538</td>\n",
       "      <td>106.801346</td>\n",
       "    </tr>\n",
       "  </tbody>\n",
       "</table>\n",
       "<p>1606 rows × 6 columns</p>\n",
       "</div>"
      ],
      "text/plain": [
       "                            date  temperature_2m  wind_speed_10m  \\\n",
       "918    2025-04-04 20:00:00+07:00       28.454000        5.860375   \n",
       "919    2025-04-04 21:00:00+07:00       28.154000        3.600000   \n",
       "920    2025-04-05 20:00:00+07:00       27.054000        9.178235   \n",
       "921    2025-04-05 21:00:00+07:00       26.454000       11.592895   \n",
       "922    2025-04-06 20:00:00+07:00       25.254000       13.358861   \n",
       "...                          ...             ...             ...   \n",
       "11699  2025-06-13 21:00:00+07:00       28.010500        2.902413   \n",
       "11700  2025-06-14 20:00:00+07:00       26.310501        6.569383   \n",
       "11701  2025-06-14 21:00:00+07:00       26.010500        4.693825   \n",
       "11702  2025-06-15 20:00:00+07:00       28.160500        2.189795   \n",
       "11703  2025-06-15 21:00:00+07:00       27.860500        1.609969   \n",
       "\n",
       "       wind_direction_10m  latitude   longitude  \n",
       "918            280.619600 -6.219151  106.801624  \n",
       "919            270.000000 -6.219151  106.801624  \n",
       "920            318.179900 -6.219151  106.801624  \n",
       "921            295.769260 -6.219151  106.801624  \n",
       "922            165.963730 -6.219151  106.801624  \n",
       "...                   ...       ...         ...  \n",
       "11699           82.875084 -6.218538  106.801346  \n",
       "11700           99.462250 -6.218538  106.801346  \n",
       "11701           85.601380 -6.218538  106.801346  \n",
       "11702           99.462250 -6.218538  106.801346  \n",
       "11703          153.435010 -6.218538  106.801346  \n",
       "\n",
       "[1606 rows x 6 columns]"
      ]
     },
     "execution_count": 5,
     "metadata": {},
     "output_type": "execute_result"
    }
   ],
   "source": [
    "df"
   ]
  },
  {
   "cell_type": "markdown",
   "id": "fcf39171",
   "metadata": {},
   "source": [
    "## Data Analysis check"
   ]
  },
  {
   "cell_type": "code",
   "execution_count": null,
   "id": "6fe48216",
   "metadata": {},
   "outputs": [],
   "source": [
    "df"
   ]
  },
  {
   "cell_type": "markdown",
   "id": "9af9fff3",
   "metadata": {},
   "source": [
    "## plotting Longitude and Latitude on maps"
   ]
  },
  {
   "cell_type": "code",
   "execution_count": 6,
   "id": "3072a4d8",
   "metadata": {},
   "outputs": [
    {
     "name": "stdout",
     "output_type": "stream",
     "text": [
      "^C\n"
     ]
    }
   ],
   "source": [
    "# !pip install geopandas\n",
    "# # pip install 'geopandas[all]'\n",
    "\n",
    "!conda install geopandas"
   ]
  },
  {
   "cell_type": "code",
   "execution_count": 7,
   "id": "12400723",
   "metadata": {},
   "outputs": [
    {
     "data": {
      "text/html": [
       "<div>\n",
       "<style scoped>\n",
       "    .dataframe tbody tr th:only-of-type {\n",
       "        vertical-align: middle;\n",
       "    }\n",
       "\n",
       "    .dataframe tbody tr th {\n",
       "        vertical-align: top;\n",
       "    }\n",
       "\n",
       "    .dataframe thead th {\n",
       "        text-align: right;\n",
       "    }\n",
       "</style>\n",
       "<table border=\"1\" class=\"dataframe\">\n",
       "  <thead>\n",
       "    <tr style=\"text-align: right;\">\n",
       "      <th></th>\n",
       "      <th>latitude</th>\n",
       "      <th>longitude</th>\n",
       "    </tr>\n",
       "  </thead>\n",
       "  <tbody>\n",
       "    <tr>\n",
       "      <th>918</th>\n",
       "      <td>-6.219151</td>\n",
       "      <td>106.801624</td>\n",
       "    </tr>\n",
       "    <tr>\n",
       "      <th>919</th>\n",
       "      <td>-6.219151</td>\n",
       "      <td>106.801624</td>\n",
       "    </tr>\n",
       "    <tr>\n",
       "      <th>920</th>\n",
       "      <td>-6.219151</td>\n",
       "      <td>106.801624</td>\n",
       "    </tr>\n",
       "    <tr>\n",
       "      <th>921</th>\n",
       "      <td>-6.219151</td>\n",
       "      <td>106.801624</td>\n",
       "    </tr>\n",
       "    <tr>\n",
       "      <th>922</th>\n",
       "      <td>-6.219151</td>\n",
       "      <td>106.801624</td>\n",
       "    </tr>\n",
       "    <tr>\n",
       "      <th>...</th>\n",
       "      <td>...</td>\n",
       "      <td>...</td>\n",
       "    </tr>\n",
       "    <tr>\n",
       "      <th>11699</th>\n",
       "      <td>-6.218538</td>\n",
       "      <td>106.801346</td>\n",
       "    </tr>\n",
       "    <tr>\n",
       "      <th>11700</th>\n",
       "      <td>-6.218538</td>\n",
       "      <td>106.801346</td>\n",
       "    </tr>\n",
       "    <tr>\n",
       "      <th>11701</th>\n",
       "      <td>-6.218538</td>\n",
       "      <td>106.801346</td>\n",
       "    </tr>\n",
       "    <tr>\n",
       "      <th>11702</th>\n",
       "      <td>-6.218538</td>\n",
       "      <td>106.801346</td>\n",
       "    </tr>\n",
       "    <tr>\n",
       "      <th>11703</th>\n",
       "      <td>-6.218538</td>\n",
       "      <td>106.801346</td>\n",
       "    </tr>\n",
       "  </tbody>\n",
       "</table>\n",
       "<p>1606 rows × 2 columns</p>\n",
       "</div>"
      ],
      "text/plain": [
       "       latitude   longitude\n",
       "918   -6.219151  106.801624\n",
       "919   -6.219151  106.801624\n",
       "920   -6.219151  106.801624\n",
       "921   -6.219151  106.801624\n",
       "922   -6.219151  106.801624\n",
       "...         ...         ...\n",
       "11699 -6.218538  106.801346\n",
       "11700 -6.218538  106.801346\n",
       "11701 -6.218538  106.801346\n",
       "11702 -6.218538  106.801346\n",
       "11703 -6.218538  106.801346\n",
       "\n",
       "[1606 rows x 2 columns]"
      ]
     },
     "execution_count": 7,
     "metadata": {},
     "output_type": "execute_result"
    }
   ],
   "source": [
    "df[['latitude', 'longitude']]"
   ]
  },
  {
   "cell_type": "code",
   "execution_count": 8,
   "id": "2e27fd95",
   "metadata": {},
   "outputs": [
    {
     "data": {
      "text/plain": [
       "pandas.core.series.Series"
      ]
     },
     "execution_count": 8,
     "metadata": {},
     "output_type": "execute_result"
    }
   ],
   "source": [
    "type(df['latitude'])"
   ]
  },
  {
   "cell_type": "code",
   "execution_count": 9,
   "id": "5279c6a9",
   "metadata": {},
   "outputs": [
    {
     "data": {
      "text/plain": [
       "pandas.core.frame.DataFrame"
      ]
     },
     "execution_count": 9,
     "metadata": {},
     "output_type": "execute_result"
    }
   ],
   "source": [
    "type(df[['latitude', 'longitude']])"
   ]
  },
  {
   "cell_type": "code",
   "execution_count": 10,
   "id": "7eba3aab",
   "metadata": {},
   "outputs": [
    {
     "ename": "ModuleNotFoundError",
     "evalue": "No module named 'geodatasets'",
     "output_type": "error",
     "traceback": [
      "\u001b[1;31m---------------------------------------------------------------------------\u001b[0m",
      "\u001b[1;31mModuleNotFoundError\u001b[0m                       Traceback (most recent call last)",
      "\u001b[1;32m<ipython-input-10-d8beb5dabc75>\u001b[0m in \u001b[0;36m<module>\u001b[1;34m\u001b[0m\n\u001b[0;32m      1\u001b[0m \u001b[1;32mimport\u001b[0m \u001b[0mgeopandas\u001b[0m\u001b[1;33m\u001b[0m\u001b[1;33m\u001b[0m\u001b[0m\n\u001b[1;32m----> 2\u001b[1;33m \u001b[1;32mfrom\u001b[0m \u001b[0mgeodatasets\u001b[0m \u001b[1;32mimport\u001b[0m \u001b[0mget_path\u001b[0m\u001b[1;33m\u001b[0m\u001b[1;33m\u001b[0m\u001b[0m\n\u001b[0m\u001b[0;32m      3\u001b[0m \u001b[1;33m\u001b[0m\u001b[0m\n\u001b[0;32m      4\u001b[0m \u001b[0mhelp\u001b[0m\u001b[1;33m(\u001b[0m\u001b[0mget_path\u001b[0m\u001b[1;33m)\u001b[0m\u001b[1;33m\u001b[0m\u001b[1;33m\u001b[0m\u001b[0m\n",
      "\u001b[1;31mModuleNotFoundError\u001b[0m: No module named 'geodatasets'"
     ]
    }
   ],
   "source": [
    "import geopandas\n",
    "from geodatasets import get_path\n",
    "\n",
    "help(get_path)"
   ]
  },
  {
   "cell_type": "code",
   "execution_count": null,
   "id": "0ddcf1aa",
   "metadata": {},
   "outputs": [],
   "source": [
    "import pandas as pd\n",
    "import matplotlib.pyplot as plt\n",
    "import descartes\n",
    "import geopandas as gpd\n",
    "from shapely.geometry import Point, Polygon\n",
    "\n",
    "%matplotlib inline"
   ]
  },
  {
   "cell_type": "code",
   "execution_count": null,
   "id": "623178ff",
   "metadata": {
    "scrolled": false
   },
   "outputs": [],
   "source": [
    "test = gpd.read_file('shape-file/KOTA_JAKARTA_PUSAT/ARENAOLAHRAGA_AR_25K.shp')"
   ]
  },
  {
   "cell_type": "code",
   "execution_count": null,
   "id": "8354f53e",
   "metadata": {},
   "outputs": [],
   "source": [
    "import fiona\n",
    "\n",
    "with fiona.open(\"shape-file/KOTA_JAKARTA_PUSAT/ARENAOLAHRAGA_AR_25K.shp\", \"r\") as src:\n",
    "    print(src.schema)\n",
    "    for feature in src:\n",
    "        print(feature)"
   ]
  },
  {
   "cell_type": "code",
   "execution_count": null,
   "id": "3d2a642f",
   "metadata": {},
   "outputs": [],
   "source": [
    "df"
   ]
  },
  {
   "cell_type": "code",
   "execution_count": null,
   "id": "19552f08",
   "metadata": {},
   "outputs": [],
   "source": [
    "import fiona\n",
    "print(fiona.__version__)"
   ]
  },
  {
   "cell_type": "code",
   "execution_count": null,
   "id": "101c10cb",
   "metadata": {},
   "outputs": [],
   "source": []
  }
 ],
 "metadata": {
  "kernelspec": {
   "display_name": "Python 3",
   "language": "python",
   "name": "python3"
  },
  "language_info": {
   "codemirror_mode": {
    "name": "ipython",
    "version": 3
   },
   "file_extension": ".py",
   "mimetype": "text/x-python",
   "name": "python",
   "nbconvert_exporter": "python",
   "pygments_lexer": "ipython3",
   "version": "3.8.8"
  }
 },
 "nbformat": 4,
 "nbformat_minor": 5
}
